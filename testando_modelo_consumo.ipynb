{
  "nbformat": 4,
  "nbformat_minor": 0,
  "metadata": {
    "colab": {
      "name": "testando_modelo_consumo.ipynb",
      "provenance": [],
      "authorship_tag": "ABX9TyMj7X6M5q4oJUovfQCChlYR",
      "include_colab_link": true
    },
    "kernelspec": {
      "name": "python3",
      "display_name": "Python 3"
    },
    "language_info": {
      "name": "python"
    }
  },
  "cells": [
    {
      "cell_type": "markdown",
      "metadata": {
        "id": "view-in-github",
        "colab_type": "text"
      },
      "source": [
        "<a href=\"https://colab.research.google.com/github/brunodleite/alura_reg_linear/blob/main/testando_modelo_consumo.ipynb\" target=\"_parent\"><img src=\"https://colab.research.google.com/assets/colab-badge.svg\" alt=\"Open In Colab\"/></a>"
      ]
    },
    {
      "cell_type": "markdown",
      "metadata": {
        "id": "VFMXD1tzK-m7"
      },
      "source": [
        "Este procedimento nos permite reutilizar o nosso modelo, sem precisar rodar todo o processo de estimação novamente."
      ]
    },
    {
      "cell_type": "code",
      "metadata": {
        "id": "Z_xwXRW_IxYf"
      },
      "source": [
        "import pickle\n",
        "\n",
        "#Abrindo o arquivo modelo_consumo_cerveja, criado anteriormente, através do método 'rb' -> read binary\n",
        "modelo = open('modelo_consumo_cerveja', 'rb')\n",
        "\n",
        "#Abrindo o novo modelo através da biblioteca pickle, pelo método 'load' \n",
        "lm_new = pickle.load(modelo)\n",
        "\n",
        "#Fechando o modelo\n",
        "modelo.close()"
      ],
      "execution_count": 2,
      "outputs": []
    },
    {
      "cell_type": "code",
      "metadata": {
        "colab": {
          "base_uri": "https://localhost:8080/"
        },
        "id": "dHLNZ52jJsdX",
        "outputId": "f70847c0-88a3-4a7c-ac29-9cb0fc07f525"
      },
      "source": [
        "#novas entradas de atributos para rodar no modelo criado.\n",
        "temp_max=30.5\n",
        "chuva=12.2\n",
        "fds=0\n",
        "entrada=[[temp_max, chuva, fds]]\n",
        "\n",
        "print('{0:.2f} litros'.format(lm_new.predict(entrada)[0]))"
      ],
      "execution_count": 6,
      "outputs": [
        {
          "output_type": "stream",
          "name": "stdout",
          "text": [
            "26094.90 litros\n"
          ]
        },
        {
          "output_type": "stream",
          "name": "stderr",
          "text": [
            "/usr/local/lib/python3.7/dist-packages/sklearn/base.py:446: UserWarning: X does not have valid feature names, but LinearRegression was fitted with feature names\n",
            "  \"X does not have valid feature names, but\"\n"
          ]
        }
      ]
    },
    {
      "cell_type": "code",
      "metadata": {
        "id": "45Roxw-2J2-o"
      },
      "source": [
        ""
      ],
      "execution_count": null,
      "outputs": []
    }
  ]
}